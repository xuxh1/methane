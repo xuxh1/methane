{
 "cells": [
  {
   "cell_type": "markdown",
   "id": "5fb8edaa",
   "metadata": {},
   "source": [
    "# FLUXNET-CH4  (no_spin_up)"
   ]
  },
  {
   "cell_type": "markdown",
   "id": "9906f283",
   "metadata": {},
   "source": [
    "## 1.Make the nml"
   ]
  },
  {
   "cell_type": "markdown",
   "id": "dcfa3d6a",
   "metadata": {},
   "source": [
    "## 2.Run the CoLM"
   ]
  },
  {
   "cell_type": "markdown",
   "id": "79cb45ec",
   "metadata": {},
   "source": [
    "## 3.Postprocess"
   ]
  },
  {
   "cell_type": "markdown",
   "id": "4998acdd",
   "metadata": {},
   "source": [
    "## 4.Draw the plot"
   ]
  }
 ],
 "metadata": {
  "language_info": {
   "name": "python"
  }
 },
 "nbformat": 4,
 "nbformat_minor": 5
}
