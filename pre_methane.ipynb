{
 "cells": [
  {
   "cell_type": "code",
   "execution_count": 1,
   "id": "4607591b",
   "metadata": {},
   "outputs": [],
   "source": [
    "import os\n",
    "import shutil\n",
    "import calendar\n",
    "import subprocess\n",
    "import numpy as np\n",
    "import xarray as xr\n",
    "import netCDF4 as nc\n",
    "from tqdm import tqdm, trange\n",
    "from joblib import Parallel, delayed"
   ]
  },
  {
   "cell_type": "code",
   "execution_count": null,
   "id": "4886a8df",
   "metadata": {},
   "outputs": [],
   "source": [
    "import os\n",
    "import socket\n",
    "print(\"当前主机名:\", socket.gethostname())\n",
    "print(\"当前节点类型（如果有 Slurm 环境）:\", os.environ.get('SLURM_NODELIST', '未在 Slurm 作业中'))"
   ]
  },
  {
   "cell_type": "code",
   "execution_count": 6,
   "id": "7036a583",
   "metadata": {},
   "outputs": [
    {
     "name": "stdout",
     "output_type": "stream",
     "text": [
      "cdo(3) mul: Filling up stream2 >/share/home/dq076/data/Area/Area_2p.nc< by copying the first timestep.\n"
     ]
    }
   ],
   "source": [
    "def ME(input_path, output_path, area_path, prefix, yr_stt, yr_end):\n",
    "    name = \"\"\n",
    "    for year in range(yr_stt,yr_end+1):\n",
    "        os.system(f'cdo -setattribute,ch4@units=\"mgCH4/m2/d\" -expr,\"ch4=f_ch4_surf_flux_tot*1000*86400\" -selname,f_ch4_surf_flux_tot {input_path}/{prefix}_hist_{year}.nc {output_path}/net_methane_{year}_tmp1.nc')\n",
    "        # os.system(f'cdo -O -timmean {output_path}net_methane_{year}_tmp1.nc {output_path}net_methane_{year}.nc')\n",
    "        name = name+f\"{output_path}net_methane_{year}_tmp1.nc \"\n",
    "    os.system(f'cdo -O mergetime {name} {output_path}/net_methane_{yr_stt}_{yr_end}_tmp1.nc')\n",
    "    os.system(f'cdo -O -monmean {output_path}/net_methane_{yr_stt}_{yr_end}_tmp1.nc {output_path}/net_methane_{yr_stt}_{yr_end}_tmp2.nc')\n",
    "    os.system(f'cdo -O -yearmean {output_path}/net_methane_{yr_stt}_{yr_end}_tmp1.nc {output_path}/net_methane_{yr_stt}_{yr_end}_tmp3.nc')\n",
    "\n",
    "    os.system(f'cdo -O -setattribute,ch4@units=\"gCH4/yr\" -mulc,365 -divc,1e3 -mul {output_path}/net_methane_{yr_stt}_{yr_end}_tmp3.nc {area_path}Area_2p.nc {output_path}net_methane_{yr_stt}_{yr_end}_sum_tmp1.nc')\n",
    "    os.system(f'cdo -O -setattribute,ch4@units=\"TgCH4/yr\" -divc,1e12 -fldsum {output_path}net_methane_{yr_stt}_{yr_end}_sum_tmp1.nc {output_path}net_methane_{yr_stt}_{yr_end}_sum.nc')\n",
    "\n",
    "prefix = 'ME_g_exp1'\n",
    "# prefix = 'ME_r_Amazon_250825_0954'\n",
    "input_path = f'/share/home/dq076/data/cases/ME/{prefix}/history/'\n",
    "output_path = f'/share/home/dq076/data/cases/ME/{prefix}/data/'\n",
    "area_path = f'/share/home/dq076/data/Area/'\n",
    "os.makedirs(output_path, exist_ok=True)\n",
    "ME(input_path, output_path, area_path, prefix, 1995, 2019)"
   ]
  },
  {
   "cell_type": "code",
   "execution_count": null,
   "id": "d5fbb3b2",
   "metadata": {},
   "outputs": [],
   "source": [
    "def ME_g_250808_1608(input_path, output_path, area_path, prefix, yr_stt, yr_end):\n",
    "    name = \"\"\n",
    "    for year in range(yr_stt,yr_end+1):\n",
    "        os.system(f'cdo -setattribute,ch4@units=\"mgCH4/m2/d\" -expr,\"ch4=f_ch4_surf_flux_tot*4/3*1000000*86400\" -selname,f_ch4_surf_flux_tot {input_path}/{prefix}_hist_{year}.nc {output_path}/net_methane_{year}_tmp1.nc')\n",
    "        # os.system(f'cdo -O -timmean {output_path}net_methane_{year}_tmp1.nc {output_path}net_methane_{year}.nc')\n",
    "        name = name+f\"{output_path}net_methane_{year}_tmp1.nc \"\n",
    "    os.system(f'cdo -O mergetime {name} {output_path}/net_methane_{yr_stt}_{yr_end}_tmp1.nc')\n",
    "    os.system(f'cdo -O -monmean {output_path}/net_methane_{yr_stt}_{yr_end}_tmp1.nc {output_path}/net_methane_{yr_stt}_{yr_end}_tmp2.nc')\n",
    "    os.system(f'cdo -O -yearmean {output_path}/net_methane_{yr_stt}_{yr_end}_tmp1.nc {output_path}/net_methane_{yr_stt}_{yr_end}_tmp3.nc')\n",
    "\n",
    "    os.system(f'cdo -O -setattribute,ch4@units=\"gCH4/yr\" -mulc,365 -divc,1e3 -mul {output_path}/net_methane_{yr_stt}_{yr_end}_tmp3.nc {area_path}Area_0p5.nc {output_path}net_methane_{yr_stt}_{yr_end}_sum_tmp1.nc')\n",
    "    os.system(f'cdo -O -setattribute,ch4@units=\"TgCH4/yr\" -divc,1e12 -fldsum {output_path}net_methane_{yr_stt}_{yr_end}_sum_tmp1.nc {output_path}net_methane_{yr_stt}_{yr_end}_sum.nc')\n",
    "\n",
    "# prefix = 'ME_g_exp1'\n",
    "prefix = 'ME_g_250808_1608'\n",
    "input_path = f'/share/home/dq076/data/cases/ME/{prefix}/history/'\n",
    "output_path = f'/share/home/dq076/data/cases/ME/{prefix}/data/'\n",
    "area_path = f'/share/home/dq076/data/Area/'\n",
    "os.makedirs(output_path, exist_ok=True)\n",
    "ME_g_250808_1608(input_path, output_path, area_path, prefix, 1995, 1995)"
   ]
  },
  {
   "cell_type": "code",
   "execution_count": null,
   "id": "b3377c50",
   "metadata": {},
   "outputs": [
    {
     "name": "stdout",
     "output_type": "stream",
     "text": [
      "cdo(3) mul: Filling up stream2 >/share/home/dq076/data/Area/Area_0p5_Amazonia.nc< by copying the first timestep.\n"
     ]
    }
   ],
   "source": [
    "def ME_r(input_path, output_path, area_path, prefix, yr_stt, yr_end):\n",
    "    name = \"\"\n",
    "    for year in range(yr_stt,yr_end+1):\n",
    "        os.system(f'cdo -setattribute,ch4@units=\"mgCH4/m2/d\" -expr,\"ch4=f_ch4_surf_flux_tot*4/3*1000000*86400\" -selname,f_ch4_surf_flux_tot {input_path}/{prefix}_hist_{year}.nc {output_path}/net_methane_{year}_tmp1.nc')\n",
    "        # os.system(f'cdo -O -timmean {output_path}net_methane_{year}_tmp1.nc {output_path}net_methane_{year}.nc')\n",
    "        name = name+f\"{output_path}net_methane_{year}_tmp1.nc \"\n",
    "    os.system(f'cdo -O mergetime {name} {output_path}/net_methane_{yr_stt}_{yr_end}_tmp1.nc')\n",
    "    os.system(f'cdo -O -monmean {output_path}/net_methane_{yr_stt}_{yr_end}_tmp1.nc {output_path}/net_methane_{yr_stt}_{yr_end}_tmp2.nc')\n",
    "    os.system(f'cdo -O -yearmean {output_path}/net_methane_{yr_stt}_{yr_end}_tmp1.nc {output_path}/net_methane_{yr_stt}_{yr_end}_tmp3.nc')\n",
    "\n",
    "    os.system(f'cdo -O -setattribute,ch4@units=\"gCH4/yr\" -mulc,365 -divc,1e3 -mul {output_path}/net_methane_{yr_stt}_{yr_end}_tmp3.nc {area_path}Area_0p5_Amazonia.nc {output_path}net_methane_{yr_stt}_{yr_end}_sum_tmp1.nc')\n",
    "    os.system(f'cdo -O -setattribute,ch4@units=\"TgCH4/yr\" -divc,1e12 -fldsum {output_path}net_methane_{yr_stt}_{yr_end}_sum_tmp1.nc {output_path}net_methane_{yr_stt}_{yr_end}_sum.nc')\n",
    "\n",
    "# prefix = 'ME_g_exp1'\n",
    "prefix = 'ME_r_Amazon_250822_1607'\n",
    "input_path = f'/share/home/dq076/data/cases/ME/{prefix}/history/'\n",
    "output_path = f'/share/home/dq076/data/cases/ME/{prefix}/data/'\n",
    "area_path = f'/share/home/dq076/data/Area/'\n",
    "os.makedirs(output_path, exist_ok=True)\n",
    "ME_r(input_path, output_path, area_path, prefix, 1995, 2019)"
   ]
  }
 ],
 "metadata": {
  "kernelspec": {
   "display_name": "base",
   "language": "python",
   "name": "python3"
  },
  "language_info": {
   "codemirror_mode": {
    "name": "ipython",
    "version": 3
   },
   "file_extension": ".py",
   "mimetype": "text/x-python",
   "name": "python",
   "nbconvert_exporter": "python",
   "pygments_lexer": "ipython3",
   "version": "3.13.2"
  }
 },
 "nbformat": 4,
 "nbformat_minor": 5
}
