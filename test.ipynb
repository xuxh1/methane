{
 "cells": [
  {
   "cell_type": "markdown",
   "id": "b488b8cc",
   "metadata": {},
   "source": [
    "## 1 Cal Henry Law"
   ]
  },
  {
   "cell_type": "code",
   "execution_count": null,
   "id": "9446fd3a",
   "metadata": {},
   "outputs": [
    {
     "name": "stdout",
     "output_type": "stream",
     "text": [
      "at temperature 290.15K khcc is 0.03864929324672436\n",
      "at temperature 291.15K khcc is 0.03805486859470019\n",
      "at temperature 292.15K khcc is 0.03747400269731473\n",
      "at temperature 293.15K khcc is 0.036906306711875\n",
      "at temperature 294.15K khcc is 0.03635140503869373\n",
      "at temperature 295.15K khcc is 0.03580893480307904\n",
      "at temperature 296.15K khcc is 0.03527854536008686\n",
      "at temperature 297.15K khcc is 0.034759897820930585\n",
      "at temperature 298.15K khcc is 0.034252664599999996\n",
      "at temperature 299.15K khcc is 0.033756528981498043\n",
      "at temperature 300.15K khcc is 0.033271184704755354\n",
      "at temperature 301.15K khcc is 0.032796335567331636\n",
      "at temperature 302.15K khcc is 0.03233169504506038\n",
      "at temperature 303.15K khcc is 0.03187698592823591\n",
      "at temperature 304.15K khcc is 0.03143193997318388\n",
      "at temperature 305.15K khcc is 0.03099629756849555\n",
      "at temperature 306.15K khcc is 0.03056980741524205\n",
      "at temperature 307.15K khcc is 0.03015222622052077\n",
      "at temperature 308.15K khcc is 0.02974331840371833\n",
      "at temperature 309.15K khcc is 0.02934285581490538\n",
      "at temperature 310.15K khcc is 0.02895061746480883\n",
      "at temperature 290.15K khcc is 0.02874899648305848\n",
      "at temperature 291.15K khcc is 0.029399670217664604\n",
      "at temperature 292.15K khcc is 0.030060817998669602\n",
      "at temperature 293.15K khcc is 0.030732529488584126\n",
      "at temperature 294.15K khcc is 0.03141489412474093\n",
      "at temperature 295.15K khcc is 0.032108001112138546\n",
      "at temperature 296.15K khcc is 0.03281193941641138\n",
      "at temperature 297.15K khcc is 0.033526797756925526\n",
      "at temperature 298.15K khcc is 0.034252664599999996\n",
      "at temperature 299.15K khcc is 0.0349896281522528\n",
      "at temperature 300.15K khcc is 0.03573777635407123\n",
      "at temperature 301.15K khcc is 0.03649719687320613\n",
      "at temperature 302.15K khcc is 0.037267977098488975\n",
      "at temperature 303.15K khcc is 0.038050204133671696\n",
      "at temperature 304.15K khcc is 0.038843964791388304\n",
      "at temperature 305.15K khcc is 0.03964934558723739\n",
      "at temperature 306.15K khcc is 0.040466432733985355\n",
      "at temperature 307.15K khcc is 0.04129531213588907\n",
      "at temperature 308.15K khcc is 0.04213606938313732\n",
      "at temperature 309.15K khcc is 0.04298878974641061\n",
      "at temperature 310.15K khcc is 0.043853558171557776\n"
     ]
    }
   ],
   "source": [
    "import math\n",
    "import numpy as np\n",
    "\n",
    "for t in np.linspace(290.15,310.15,21):\n",
    "    k_h = 1.4e-3*np.exp(1600*(1/t-1/298.15))\n",
    "    R = 0.08206\n",
    "    k_h_cc = k_h*R*t\n",
    "\n",
    "    # print(f'at temperature {t}K khcc is {k_h_cc}')\n",
    "    print(f'at temperature {t}K khcc is {k_h_cc}')\n",
    "\n",
    "\n",
    "# for t in np.linspace(290.15,310.15,21):\n",
    "#     k_h = 1.4e-3*np.exp(-1600*(1/t-1/298.15))\n",
    "#     R = 0.08206\n",
    "#     k_h_cc = k_h*R*t\n",
    "\n",
    "#     # print(f'at temperature {t}K khcc is {k_h_cc}')\n",
    "#     print(f'at temperature {t}K khcc is {k_h_cc}')\n"
   ]
  }
 ],
 "metadata": {
  "kernelspec": {
   "display_name": "base",
   "language": "python",
   "name": "python3"
  },
  "language_info": {
   "codemirror_mode": {
    "name": "ipython",
    "version": 3
   },
   "file_extension": ".py",
   "mimetype": "text/x-python",
   "name": "python",
   "nbconvert_exporter": "python",
   "pygments_lexer": "ipython3",
   "version": "3.13.2"
  }
 },
 "nbformat": 4,
 "nbformat_minor": 5
}
