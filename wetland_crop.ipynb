{
 "cells": [
  {
   "cell_type": "code",
   "execution_count": 1,
   "id": "75244518",
   "metadata": {},
   "outputs": [],
   "source": [
    "import os"
   ]
  },
  {
   "cell_type": "code",
   "execution_count": null,
   "id": "88d1e6f1",
   "metadata": {},
   "outputs": [],
   "source": [
    "def process_crop_data(crop_name):\n",
    "    os.system('cdo ')\n",
    "\n",
    "data_path = '/share/home/dq013/zhwei/colm/data/CoLMrawdata/CFT/'\n",
    "data_name = 'global_CFT_surface_data.nc'\n",
    "crop_name = data_path+data_name\n",
    "output_path = '/share/home/dq076/data/process/'\n",
    "process_crop_data(crop_name,output_path)"
   ]
  }
 ],
 "metadata": {
  "kernelspec": {
   "display_name": "base",
   "language": "python",
   "name": "python3"
  },
  "language_info": {
   "codemirror_mode": {
    "name": "ipython",
    "version": 3
   },
   "file_extension": ".py",
   "mimetype": "text/x-python",
   "name": "python",
   "nbconvert_exporter": "python",
   "pygments_lexer": "ipython3",
   "version": "3.13.2"
  }
 },
 "nbformat": 4,
 "nbformat_minor": 5
}
